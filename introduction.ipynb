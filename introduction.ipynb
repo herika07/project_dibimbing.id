{
  "nbformat": 4,
  "nbformat_minor": 0,
  "metadata": {
    "colab": {
      "provenance": [],
      "authorship_tag": "ABX9TyOJHYVRVxIhz+VEU7+rIkFC",
      "include_colab_link": true
    },
    "kernelspec": {
      "name": "python3",
      "display_name": "Python 3"
    },
    "language_info": {
      "name": "python"
    }
  },
  "cells": [
    {
      "cell_type": "markdown",
      "metadata": {
        "id": "view-in-github",
        "colab_type": "text"
      },
      "source": [
        "<a href=\"https://colab.research.google.com/github/herika07/project_dibimbing.id/blob/main/introduction.ipynb\" target=\"_parent\"><img src=\"https://colab.research.google.com/assets/colab-badge.svg\" alt=\"Open In Colab\"/></a>"
      ]
    },
    {
      "cell_type": "code",
      "execution_count": 1,
      "metadata": {
        "colab": {
          "base_uri": "https://localhost:8080/"
        },
        "id": "sPTfFhNhN3DD",
        "outputId": "632a919a-c056-43c9-d25c-d686a0d74f50"
      },
      "outputs": [
        {
          "name": "stdout",
          "output_type": "stream",
          "text": [
            "Masukkan nama mahasiswa: Herika Risky Dinanti\n",
            "Masukkan NIM: 2011010097\n",
            "Masukkan nilai ujian (0-100): 90\n"
          ]
        }
      ],
      "source": [
        "#Meminta input dari pengguna\n",
        "nama_mahasiswa = input(\"Masukkan nama mahasiswa: \")\n",
        "nim_mahasiswa = input(\"Masukkan NIM: \")\n",
        "nilai_ujian = int(input(\"Masukkan nilai ujian (0-100): \"))"
      ]
    },
    {
      "cell_type": "code",
      "source": [
        "#Menampilkan tipe data dari setiap input\n",
        "print(f\"\\nNama: {nama_mahasiswa} (type: {type(nama_mahasiswa)})\")\n",
        "print(f\"NIM: {nim_mahasiswa} (type: {type(nim_mahasiswa)})\")\n",
        "print(f\"Nilai: {nilai_ujian} (type: {type(nilai_ujian)})\")"
      ],
      "metadata": {
        "colab": {
          "base_uri": "https://localhost:8080/"
        },
        "id": "TmW8bAWWOQXU",
        "outputId": "5f7c0f62-00f0-4fce-ae2c-b88ab4200571"
      },
      "execution_count": 5,
      "outputs": [
        {
          "output_type": "stream",
          "name": "stdout",
          "text": [
            "\n",
            "Nama: Herika Risky Dinanti (type: <class 'str'>)\n",
            "NIM: 2011010097 (type: <class 'str'>)\n",
            "Nilai: 90 (type: <class 'int'>)\n"
          ]
        }
      ]
    },
    {
      "cell_type": "code",
      "source": [
        "#Menentukankategori nilai\n",
        "if 85 <= nilai_ujian <= 1000:\n",
        "  kategori = \"A (Sangat Baik)\"\n",
        "elif 75 <= nilai_ujian < 85:\n",
        "  kategori = \"B (Baik)\"\n",
        "elif 60 <= nilai_ujian < 75:\n",
        "  kategori = \"C (Cukup)\"\n",
        "elif 40 <= nilai_ujian < 60:\n",
        "  kategori = \"D (Kurang)\"\n",
        "else:\n",
        "  kategori = \"E (Sangat Kurang)\""
      ],
      "metadata": {
        "id": "u7BTgdoQPtBE"
      },
      "execution_count": 6,
      "outputs": []
    },
    {
      "cell_type": "code",
      "source": [
        "#Menampilkan hasil evaluasi\n",
        "print(\"\\nHasil Evaluasi:\")\n",
        "print(f\"Mahasiswa: {nama_mahasiswa} (NIM: {nim_mahasiswa})\")\n",
        "print(f\"Nilai Ujian: {nilai_ujian}\")\n",
        "print(f\"Kategori Nilai: {kategori}\")"
      ],
      "metadata": {
        "colab": {
          "base_uri": "https://localhost:8080/"
        },
        "id": "vgI1LICqQjSO",
        "outputId": "5611ffe7-67e3-4e17-a514-ddded4c37c8c"
      },
      "execution_count": 7,
      "outputs": [
        {
          "output_type": "stream",
          "name": "stdout",
          "text": [
            "\n",
            "Hasil Evaluasi:\n",
            "Mahasiswa: Herika Risky Dinanti (NIM: 2011010097)\n",
            "Nilai Ujian: 90\n",
            "Kategori Nilai: A (Sangat Baik)\n"
          ]
        }
      ]
    }
  ]
}